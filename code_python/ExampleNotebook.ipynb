{
 "cells": [
  {
   "cell_type": "code",
   "execution_count": 5,
   "outputs": [],
   "source": [
    "# SOURCE"
   ],
   "metadata": {
    "collapsed": false
   }
  },
  {
   "cell_type": "code",
   "execution_count": 6,
   "outputs": [
    {
     "name": "stdout",
     "output_type": "stream",
     "text": [
      "Requirement already satisfied: pandas in /Users/Owner/anaconda3/envs/AlphaVantageStockDB/lib/python3.8/site-packages (2.0.3)\r\n",
      "Requirement already satisfied: python-dateutil>=2.8.2 in /Users/Owner/anaconda3/envs/AlphaVantageStockDB/lib/python3.8/site-packages (from pandas) (2.8.2)\r\n",
      "Requirement already satisfied: pytz>=2020.1 in /Users/Owner/anaconda3/envs/AlphaVantageStockDB/lib/python3.8/site-packages (from pandas) (2023.3.post1)\r\n",
      "Requirement already satisfied: tzdata>=2022.1 in /Users/Owner/anaconda3/envs/AlphaVantageStockDB/lib/python3.8/site-packages (from pandas) (2023.3)\r\n",
      "Requirement already satisfied: numpy>=1.20.3 in /Users/Owner/anaconda3/envs/AlphaVantageStockDB/lib/python3.8/site-packages (from pandas) (1.24.3)\r\n",
      "Requirement already satisfied: six>=1.5 in /Users/Owner/anaconda3/envs/AlphaVantageStockDB/lib/python3.8/site-packages (from python-dateutil>=2.8.2->pandas) (1.16.0)\r\n",
      "Requirement already satisfied: updater in /Users/Owner/anaconda3/envs/AlphaVantageStockDB/lib/python3.8/site-packages (0.3.2)\r\n",
      "Requirement already satisfied: PyYAML==5.4.1 in /Users/Owner/anaconda3/envs/AlphaVantageStockDB/lib/python3.8/site-packages (from updater) (5.4.1)\r\n",
      "Requirement already satisfied: behave==1.2.6 in /Users/Owner/anaconda3/envs/AlphaVantageStockDB/lib/python3.8/site-packages (from updater) (1.2.6)\r\n",
      "Requirement already satisfied: cachier==1.5.3 in /Users/Owner/anaconda3/envs/AlphaVantageStockDB/lib/python3.8/site-packages (from updater) (1.5.3)\r\n",
      "Requirement already satisfied: click==7.1 in /Users/Owner/anaconda3/envs/AlphaVantageStockDB/lib/python3.8/site-packages (from updater) (7.1)\r\n",
      "Requirement already satisfied: loguru==0.5.3 in /Users/Owner/anaconda3/envs/AlphaVantageStockDB/lib/python3.8/site-packages (from updater) (0.5.3)\r\n",
      "Requirement already satisfied: packaging==21.3 in /Users/Owner/anaconda3/envs/AlphaVantageStockDB/lib/python3.8/site-packages (from updater) (21.3)\r\n",
      "Requirement already satisfied: plumbum==1.7.1 in /Users/Owner/anaconda3/envs/AlphaVantageStockDB/lib/python3.8/site-packages (from updater) (1.7.1)\r\n",
      "Requirement already satisfied: pymongo==3.12.1 in /Users/Owner/anaconda3/envs/AlphaVantageStockDB/lib/python3.8/site-packages (from updater) (3.12.1)\r\n",
      "Requirement already satisfied: python-rex==0.4 in /Users/Owner/anaconda3/envs/AlphaVantageStockDB/lib/python3.8/site-packages (from updater) (0.4)\r\n",
      "Requirement already satisfied: requests==2.26.0 in /Users/Owner/anaconda3/envs/AlphaVantageStockDB/lib/python3.8/site-packages (from updater) (2.26.0)\r\n",
      "Requirement already satisfied: parse>=1.8.2 in /Users/Owner/anaconda3/envs/AlphaVantageStockDB/lib/python3.8/site-packages (from behave==1.2.6->updater) (1.19.1)\r\n",
      "Requirement already satisfied: parse-type>=0.4.2 in /Users/Owner/anaconda3/envs/AlphaVantageStockDB/lib/python3.8/site-packages (from behave==1.2.6->updater) (0.6.2)\r\n",
      "Requirement already satisfied: six>=1.11 in /Users/Owner/anaconda3/envs/AlphaVantageStockDB/lib/python3.8/site-packages (from behave==1.2.6->updater) (1.16.0)\r\n",
      "Requirement already satisfied: watchdog in /Users/Owner/anaconda3/envs/AlphaVantageStockDB/lib/python3.8/site-packages (from cachier==1.5.3->updater) (3.0.0)\r\n",
      "Requirement already satisfied: portalocker in /Users/Owner/anaconda3/envs/AlphaVantageStockDB/lib/python3.8/site-packages (from cachier==1.5.3->updater) (2.8.2)\r\n",
      "Requirement already satisfied: pathtools in /Users/Owner/anaconda3/envs/AlphaVantageStockDB/lib/python3.8/site-packages (from cachier==1.5.3->updater) (0.1.2)\r\n",
      "Requirement already satisfied: pyparsing!=3.0.5,>=2.0.2 in /Users/Owner/anaconda3/envs/AlphaVantageStockDB/lib/python3.8/site-packages (from packaging==21.3->updater) (3.1.1)\r\n",
      "Requirement already satisfied: urllib3<1.27,>=1.21.1 in /Users/Owner/anaconda3/envs/AlphaVantageStockDB/lib/python3.8/site-packages (from requests==2.26.0->updater) (1.26.18)\r\n",
      "Requirement already satisfied: certifi>=2017.4.17 in /Users/Owner/anaconda3/envs/AlphaVantageStockDB/lib/python3.8/site-packages (from requests==2.26.0->updater) (2023.7.22)\r\n",
      "Requirement already satisfied: charset-normalizer~=2.0.0 in /Users/Owner/anaconda3/envs/AlphaVantageStockDB/lib/python3.8/site-packages (from requests==2.26.0->updater) (2.0.4)\r\n",
      "Requirement already satisfied: idna<4,>=2.5 in /Users/Owner/anaconda3/envs/AlphaVantageStockDB/lib/python3.8/site-packages (from requests==2.26.0->updater) (3.4)\r\n",
      "Requirement already satisfied: matplotlib in /Users/Owner/anaconda3/envs/AlphaVantageStockDB/lib/python3.8/site-packages (3.7.3)\r\n",
      "Requirement already satisfied: contourpy>=1.0.1 in /Users/Owner/anaconda3/envs/AlphaVantageStockDB/lib/python3.8/site-packages (from matplotlib) (1.1.1)\r\n",
      "Requirement already satisfied: cycler>=0.10 in /Users/Owner/anaconda3/envs/AlphaVantageStockDB/lib/python3.8/site-packages (from matplotlib) (0.12.1)\r\n",
      "Requirement already satisfied: fonttools>=4.22.0 in /Users/Owner/anaconda3/envs/AlphaVantageStockDB/lib/python3.8/site-packages (from matplotlib) (4.44.0)\r\n",
      "Requirement already satisfied: kiwisolver>=1.0.1 in /Users/Owner/anaconda3/envs/AlphaVantageStockDB/lib/python3.8/site-packages (from matplotlib) (1.4.5)\r\n",
      "Requirement already satisfied: numpy<2,>=1.20 in /Users/Owner/anaconda3/envs/AlphaVantageStockDB/lib/python3.8/site-packages (from matplotlib) (1.24.3)\r\n",
      "Requirement already satisfied: packaging>=20.0 in /Users/Owner/anaconda3/envs/AlphaVantageStockDB/lib/python3.8/site-packages (from matplotlib) (21.3)\r\n",
      "Requirement already satisfied: pillow>=6.2.0 in /Users/Owner/anaconda3/envs/AlphaVantageStockDB/lib/python3.8/site-packages (from matplotlib) (10.1.0)\r\n",
      "Requirement already satisfied: pyparsing>=2.3.1 in /Users/Owner/anaconda3/envs/AlphaVantageStockDB/lib/python3.8/site-packages (from matplotlib) (3.1.1)\r\n",
      "Requirement already satisfied: python-dateutil>=2.7 in /Users/Owner/anaconda3/envs/AlphaVantageStockDB/lib/python3.8/site-packages (from matplotlib) (2.8.2)\r\n",
      "Requirement already satisfied: importlib-resources>=3.2.0 in /Users/Owner/anaconda3/envs/AlphaVantageStockDB/lib/python3.8/site-packages (from matplotlib) (6.1.0)\r\n",
      "Requirement already satisfied: zipp>=3.1.0 in /Users/Owner/anaconda3/envs/AlphaVantageStockDB/lib/python3.8/site-packages (from importlib-resources>=3.2.0->matplotlib) (3.11.0)\r\n",
      "Requirement already satisfied: six>=1.5 in /Users/Owner/anaconda3/envs/AlphaVantageStockDB/lib/python3.8/site-packages (from python-dateutil>=2.7->matplotlib) (1.16.0)\r\n",
      "Requirement already satisfied: plotly in /Users/Owner/anaconda3/envs/AlphaVantageStockDB/lib/python3.8/site-packages (5.18.0)\r\n",
      "Requirement already satisfied: tenacity>=6.2.0 in /Users/Owner/anaconda3/envs/AlphaVantageStockDB/lib/python3.8/site-packages (from plotly) (8.2.3)\r\n",
      "Requirement already satisfied: packaging in /Users/Owner/anaconda3/envs/AlphaVantageStockDB/lib/python3.8/site-packages (from plotly) (21.3)\r\n",
      "Requirement already satisfied: pyparsing!=3.0.5,>=2.0.2 in /Users/Owner/anaconda3/envs/AlphaVantageStockDB/lib/python3.8/site-packages (from packaging->plotly) (3.1.1)\r\n",
      "Requirement already satisfied: pymysql in /Users/Owner/anaconda3/envs/AlphaVantageStockDB/lib/python3.8/site-packages (1.0.2)\r\n"
     ]
    }
   ],
   "source": [
    "!pip3 install pandas\n",
    "!pip3 install updater\n",
    "!pip3 install matplotlib\n",
    "!pip3 install plotly\n",
    "!pip3 install pymysql"
   ],
   "metadata": {
    "collapsed": false
   }
  },
  {
   "cell_type": "code",
   "execution_count": 7,
   "outputs": [],
   "source": [
    "import pandas as pd, numpy as np, matplotlib.pyplot as plt\n",
    "import updater as db\n",
    "%matplotlib inline\n",
    "\n",
    "from plotly.subplots import make_subplots\n",
    "import plotly.graph_objects as go\n",
    "import plotly.io as pio\n",
    "\n",
    "pio.renderers.default = \"jupyterlab\""
   ],
   "metadata": {
    "collapsed": false
   }
  },
  {
   "cell_type": "code",
   "execution_count": 8,
   "metadata": {},
   "outputs": [
    {
     "ename": "KeyError",
     "evalue": "'databases'",
     "output_type": "error",
     "traceback": [
      "\u001B[0;31m---------------------------------------------------------------------------\u001B[0m",
      "\u001B[0;31mKeyError\u001B[0m                                  Traceback (most recent call last)",
      "Cell \u001B[0;32mIn[8], line 2\u001B[0m\n\u001B[1;32m      1\u001B[0m database_name \u001B[38;5;241m=\u001B[39m \u001B[38;5;124m\"\u001B[39m\u001B[38;5;124mPRICES_DAILY\u001B[39m\u001B[38;5;124m\"\u001B[39m\n\u001B[0;32m----> 2\u001B[0m db_info, data_source_info \u001B[38;5;241m=\u001B[39m \u001B[43mdb\u001B[49m\u001B[38;5;241;43m.\u001B[39;49m\u001B[43mparse_creds\u001B[49m\u001B[43m(\u001B[49m\u001B[43mdb\u001B[49m\u001B[38;5;241;43m.\u001B[39;49m\u001B[43mcred_file\u001B[49m\u001B[43m,\u001B[49m\u001B[43m \u001B[49m\u001B[43mdatabase_name\u001B[49m\u001B[38;5;241;43m=\u001B[39;49m\u001B[43mdatabase_name\u001B[49m\u001B[43m)\u001B[49m \u001B[38;5;66;03m# did you create creds.yaml?\u001B[39;00m\n\u001B[1;32m      3\u001B[0m \u001B[38;5;66;03m# TODO add .env file\u001B[39;00m\n\u001B[1;32m      4\u001B[0m sql_conn, sql_cursor \u001B[38;5;241m=\u001B[39m db\u001B[38;5;241m.\u001B[39mmysql_connect(\n\u001B[1;32m      5\u001B[0m \n\u001B[1;32m      6\u001B[0m     host\u001B[38;5;241m=\u001B[39mdb_info[\u001B[38;5;124m'\u001B[39m\u001B[38;5;124mlocal_host\u001B[39m\u001B[38;5;124m'\u001B[39m],\n\u001B[0;32m   (...)\u001B[0m\n\u001B[1;32m     11\u001B[0m \n\u001B[1;32m     12\u001B[0m     database\u001B[38;5;241m=\u001B[39mdatabase_name)\n",
      "File \u001B[0;32m~/sbox/PycharmProjects/AlphaVantageStockDB/code_python/updater.py:546\u001B[0m, in \u001B[0;36mparse_creds\u001B[0;34m(cred_file, database_name)\u001B[0m\n\u001B[1;32m    544\u001B[0m \u001B[38;5;66;03m# database creds\u001B[39;00m\n\u001B[1;32m    545\u001B[0m db_info \u001B[38;5;241m=\u001B[39m {}\n\u001B[0;32m--> 546\u001B[0m db_info[\u001B[38;5;124m'\u001B[39m\u001B[38;5;124muser\u001B[39m\u001B[38;5;124m'\u001B[39m] \u001B[38;5;241m=\u001B[39m \u001B[43mdata\u001B[49m\u001B[43m[\u001B[49m\u001B[38;5;124;43m'\u001B[39;49m\u001B[38;5;124;43mdatabases\u001B[39;49m\u001B[38;5;124;43m'\u001B[39;49m\u001B[43m]\u001B[49m[database_name][\u001B[38;5;124m'\u001B[39m\u001B[38;5;124muser\u001B[39m\u001B[38;5;124m'\u001B[39m]\n\u001B[1;32m    547\u001B[0m db_info[\u001B[38;5;124m'\u001B[39m\u001B[38;5;124mpassword\u001B[39m\u001B[38;5;124m'\u001B[39m] \u001B[38;5;241m=\u001B[39m data[\u001B[38;5;124m'\u001B[39m\u001B[38;5;124mdatabases\u001B[39m\u001B[38;5;124m'\u001B[39m][database_name][\u001B[38;5;124m'\u001B[39m\u001B[38;5;124mpassword\u001B[39m\u001B[38;5;124m'\u001B[39m]\n\u001B[1;32m    548\u001B[0m db_info[\u001B[38;5;124m'\u001B[39m\u001B[38;5;124mhost\u001B[39m\u001B[38;5;124m'\u001B[39m] \u001B[38;5;241m=\u001B[39m data[\u001B[38;5;124m'\u001B[39m\u001B[38;5;124mdatabases\u001B[39m\u001B[38;5;124m'\u001B[39m][database_name][\u001B[38;5;124m'\u001B[39m\u001B[38;5;124mhost\u001B[39m\u001B[38;5;124m'\u001B[39m]\n",
      "\u001B[0;31mKeyError\u001B[0m: 'databases'"
     ]
    }
   ],
   "source": [
    "database_name = \"PRICES_DAILY\"\n",
    "db_info, data_source_info = db.parse_creds(db.cred_file, database_name=database_name) # did you create creds.yaml?\n",
    "# TODO add .env file\n",
    "sql_conn, sql_cursor = db.mysql_connect(\n",
    "\n",
    "    host=db_info['local_host'],\n",
    "\n",
    "    user=db_info['AlphaDB_Admin'],\n",
    "\n",
    "    password=db_info['Admin_Password'],\n",
    "\n",
    "    database=database_name)"
   ]
  },
  {
   "cell_type": "code",
   "execution_count": null,
   "metadata": {},
   "outputs": [],
   "source": [
    "# what ETF symbols do we have in the database?\n",
    "print(db.get_etf_tickers().keys())"
   ]
  },
  {
   "cell_type": "code",
   "execution_count": null,
   "metadata": {},
   "outputs": [],
   "source": [
    "# show trailing highest high/lowest low with matplotlib for SPY\n",
    "symbol = 'SPY'\n",
    "hhll_length = 252\n",
    "data = pd.read_sql('CALL GetSecurityData(\"{}\")'.format(symbol), con=sql_conn).set_index(\"SampleTime\")\n",
    "ax = data.AdjustedClosePrice.plot(\n",
    "    title=\"Daily Adjusted Price for {}\\nWith {}d Highest High/Lowest Low Bands\".format(symbol, hhll_length))\n",
    "data.AdjustedClosePrice.rolling(hhll_length).max().plot(ax=ax)\n",
    "data.AdjustedClosePrice.rolling(hhll_length).min().plot(ax=ax)\n",
    "_ = plt.legend([\"AdjClose\", \"HighestHigh\", \"LowestLow\"])"
   ]
  },
  {
   "cell_type": "code",
   "execution_count": null,
   "metadata": {},
   "outputs": [],
   "source": [
    "# show trailing highest high/lowest low with Plotly\n",
    "\n",
    "plot_data = go.Scatter(x=data.index, y=data.AdjustedClosePrice, name=\"AdjClose\")\n",
    "plot_data_hh = go.Scatter(x=data.index, y=data.AdjustedClosePrice.rolling(hhll_length).max(), name=\"HighestHigh\")\n",
    "plot_data_ll = go.Scatter(x=data.index, y=data.AdjustedClosePrice.rolling(hhll_length).min(), name=\"LowestLow\")\n",
    "\n",
    "fig = make_subplots(rows=1, cols=1)\n",
    "fig.add_trace(plot_data, row=1, col=1)\n",
    "fig.add_trace(plot_data_hh, row=1, col=1)\n",
    "fig.add_trace(plot_data_ll, row=1, col=1)\n",
    "\n",
    "fig.update_layout(title=go.layout.Title(\n",
    "    text=\"Daily Adjusted Price for {} with {}d Highest High/Lowest Low Bands\".format(symbol, hhll_length), \n",
    "    xref=\"paper\", x=0))\n",
    "    \n",
    "fig.show()"
   ]
  },
  {
   "cell_type": "code",
   "execution_count": null,
   "metadata": {},
   "outputs": [],
   "source": []
  }
 ],
 "metadata": {
  "kernelspec": {
   "display_name": "Python 3",
   "language": "python",
   "name": "python3"
  },
  "language_info": {
   "codemirror_mode": {
    "name": "ipython",
    "version": 3
   },
   "file_extension": ".py",
   "mimetype": "text/x-python",
   "name": "python",
   "nbconvert_exporter": "python",
   "pygments_lexer": "ipython3",
   "version": "3.7.9"
  }
 },
 "nbformat": 4,
 "nbformat_minor": 4
}